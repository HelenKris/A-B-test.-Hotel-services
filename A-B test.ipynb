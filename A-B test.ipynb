{
  "cells": [
    {
      "attachments": {},
      "cell_type": "markdown",
      "metadata": {
        "collapsed": false,
        "id": "tfl5FZAppBJg"
      },
      "source": [
        "\n",
        "# Цель работы:\n",
        "----\n",
        "\n",
        "<br>\n",
        "\n",
        "Провести **A/B тестирование** по реальным данным, предоставленным отделем (`ab_test_ensembles.csv`). Есть два варианта работы сервиса в отеле - `standard` и `svm_ensemble_v_1_22`, в которых работают несколько моделей классификации для целей сервиса.\n",
        "\n",
        "<br>\n",
        "------\n",
        "Проведя исследование данных и тестирование необходимо ответить на **2 главных вопроса:**\n",
        "\n",
        "1. Стоит ли нам оставить старый вариант работы сервиса или заменить его на вариант работы с моделями классификации (используем всю выборку 200к+ пользователей).\n",
        "2. Сделать такой же вывод для типа пользователей (`user_type`). Стоит ли для новых (старых) пользователей оставить старый (новый) вариант работы сервиса."
      ]
    },
    {
      "cell_type": "code",
      "execution_count": 1,
      "metadata": {
        "id": "AalrcW3Xq2TV"
      },
      "outputs": [],
      "source": [
        "import pandas as pd\n",
        "import numpy as np\n",
        "# import statistics\n",
        "from scipy.stats import stats, norm\n",
        "import statsmodels.api as sm\n",
        "import matplotlib.pyplot as plt\n",
        "from scipy.stats import chi2_contingency\n",
        "# import seaborn as sns\n",
        "import warnings\n",
        "\n",
        "warnings.filterwarnings(\"ignore\")\n",
        "np.random.seed(42)"
      ]
    },
    {
      "attachments": {},
      "cell_type": "markdown",
      "metadata": {},
      "source": [
        "**Разведочный анализ данных**"
      ]
    },
    {
      "cell_type": "code",
      "execution_count": 3,
      "metadata": {
        "colab": {
          "base_uri": "https://localhost:8080/",
          "height": 206
        },
        "id": "UwLLHKfMpBJs",
        "outputId": "11a0faaf-2dff-4683-af8e-d02245dd6b9d"
      },
      "outputs": [
        {
          "data": {
            "text/html": [
              "<div>\n",
              "<style scoped>\n",
              "    .dataframe tbody tr th:only-of-type {\n",
              "        vertical-align: middle;\n",
              "    }\n",
              "\n",
              "    .dataframe tbody tr th {\n",
              "        vertical-align: top;\n",
              "    }\n",
              "\n",
              "    .dataframe thead th {\n",
              "        text-align: right;\n",
              "    }\n",
              "</style>\n",
              "<table border=\"1\" class=\"dataframe\">\n",
              "  <thead>\n",
              "    <tr style=\"text-align: right;\">\n",
              "      <th></th>\n",
              "      <th>user_id</th>\n",
              "      <th>timestamp</th>\n",
              "      <th>group</th>\n",
              "      <th>variants</th>\n",
              "      <th>converted</th>\n",
              "      <th>location</th>\n",
              "      <th>age_group</th>\n",
              "      <th>user_type</th>\n",
              "    </tr>\n",
              "  </thead>\n",
              "  <tbody>\n",
              "    <tr>\n",
              "      <th>0</th>\n",
              "      <td>9109b0dc-d393-497f-8d63-ba9a25dd16b4</td>\n",
              "      <td>2022-05-21 22:11:48.556739</td>\n",
              "      <td>control</td>\n",
              "      <td>standard</td>\n",
              "      <td>0</td>\n",
              "      <td>United Kingdom</td>\n",
              "      <td>18-25</td>\n",
              "      <td>registered_user</td>\n",
              "    </tr>\n",
              "    <tr>\n",
              "      <th>1</th>\n",
              "      <td>2430c3d2-f75b-4b31-8271-51b6a76c2652</td>\n",
              "      <td>2022-05-12 08:01:45.159739</td>\n",
              "      <td>control</td>\n",
              "      <td>standard</td>\n",
              "      <td>0</td>\n",
              "      <td>United Kingdom</td>\n",
              "      <td>42-49</td>\n",
              "      <td>registered_user</td>\n",
              "    </tr>\n",
              "    <tr>\n",
              "      <th>2</th>\n",
              "      <td>44788c4e-8dd2-4fad-b986-75e76f4adb64</td>\n",
              "      <td>2022-05-11 16:55:06.154213</td>\n",
              "      <td>treatment</td>\n",
              "      <td>svm_ensemble_v_1_22</td>\n",
              "      <td>0</td>\n",
              "      <td>United Kingdom</td>\n",
              "      <td>26-33</td>\n",
              "      <td>new_user</td>\n",
              "    </tr>\n",
              "    <tr>\n",
              "      <th>3</th>\n",
              "      <td>4699a417-506d-41b8-a354-6af6ad576963</td>\n",
              "      <td>2022-05-08 18:28:03.143765</td>\n",
              "      <td>treatment</td>\n",
              "      <td>svm_ensemble_v_1_22</td>\n",
              "      <td>0</td>\n",
              "      <td>United Kingdom</td>\n",
              "      <td>42-49</td>\n",
              "      <td>registered_user</td>\n",
              "    </tr>\n",
              "    <tr>\n",
              "      <th>4</th>\n",
              "      <td>304b0d28-bcdf-401a-9dff-66230d3ba0bc</td>\n",
              "      <td>2022-05-21 01:52:26.210827</td>\n",
              "      <td>control</td>\n",
              "      <td>standard</td>\n",
              "      <td>1</td>\n",
              "      <td>United Kingdom</td>\n",
              "      <td>42-49</td>\n",
              "      <td>registered_user</td>\n",
              "    </tr>\n",
              "  </tbody>\n",
              "</table>\n",
              "</div>"
            ],
            "text/plain": [
              "                                user_id                   timestamp  \\\n",
              "0  9109b0dc-d393-497f-8d63-ba9a25dd16b4  2022-05-21 22:11:48.556739   \n",
              "1  2430c3d2-f75b-4b31-8271-51b6a76c2652  2022-05-12 08:01:45.159739   \n",
              "2  44788c4e-8dd2-4fad-b986-75e76f4adb64  2022-05-11 16:55:06.154213   \n",
              "3  4699a417-506d-41b8-a354-6af6ad576963  2022-05-08 18:28:03.143765   \n",
              "4  304b0d28-bcdf-401a-9dff-66230d3ba0bc  2022-05-21 01:52:26.210827   \n",
              "\n",
              "       group             variants  converted        location age_group  \\\n",
              "0    control             standard          0  United Kingdom     18-25   \n",
              "1    control             standard          0  United Kingdom     42-49   \n",
              "2  treatment  svm_ensemble_v_1_22          0  United Kingdom     26-33   \n",
              "3  treatment  svm_ensemble_v_1_22          0  United Kingdom     42-49   \n",
              "4    control             standard          1  United Kingdom     42-49   \n",
              "\n",
              "         user_type  \n",
              "0  registered_user  \n",
              "1  registered_user  \n",
              "2         new_user  \n",
              "3  registered_user  \n",
              "4  registered_user  "
            ]
          },
          "execution_count": 3,
          "metadata": {},
          "output_type": "execute_result"
        }
      ],
      "source": [
        "data = pd.read_csv('./ab_test_ensembles.csv', index_col=False)\n",
        "data.head()"
      ]
    },
    {
      "cell_type": "code",
      "execution_count": 4,
      "metadata": {
        "colab": {
          "base_uri": "https://localhost:8080/"
        },
        "id": "BdXmcGUhKipR",
        "outputId": "3c5779a0-1077-4a7a-df34-ef1ca833d608"
      },
      "outputs": [
        {
          "name": "stdout",
          "output_type": "stream",
          "text": [
            "<class 'pandas.core.frame.DataFrame'>\n",
            "RangeIndex: 294478 entries, 0 to 294477\n",
            "Data columns (total 8 columns):\n",
            " #   Column     Non-Null Count   Dtype \n",
            "---  ------     --------------   ----- \n",
            " 0   user_id    294478 non-null  object\n",
            " 1   timestamp  294478 non-null  object\n",
            " 2   group      294478 non-null  object\n",
            " 3   variants   294478 non-null  object\n",
            " 4   converted  294478 non-null  int64 \n",
            " 5   location   294478 non-null  object\n",
            " 6   age_group  294478 non-null  object\n",
            " 7   user_type  294478 non-null  object\n",
            "dtypes: int64(1), object(7)\n",
            "memory usage: 18.0+ MB\n"
          ]
        }
      ],
      "source": [
        "data.info()"
      ]
    },
    {
      "cell_type": "code",
      "execution_count": 5,
      "metadata": {},
      "outputs": [
        {
          "data": {
            "text/html": [
              "<div>\n",
              "<style scoped>\n",
              "    .dataframe tbody tr th:only-of-type {\n",
              "        vertical-align: middle;\n",
              "    }\n",
              "\n",
              "    .dataframe tbody tr th {\n",
              "        vertical-align: top;\n",
              "    }\n",
              "\n",
              "    .dataframe thead th {\n",
              "        text-align: right;\n",
              "    }\n",
              "</style>\n",
              "<table border=\"1\" class=\"dataframe\">\n",
              "  <thead>\n",
              "    <tr style=\"text-align: right;\">\n",
              "      <th></th>\n",
              "      <th>user_id</th>\n",
              "      <th>timestamp</th>\n",
              "      <th>group</th>\n",
              "      <th>variants</th>\n",
              "      <th>location</th>\n",
              "      <th>age_group</th>\n",
              "      <th>user_type</th>\n",
              "    </tr>\n",
              "  </thead>\n",
              "  <tbody>\n",
              "    <tr>\n",
              "      <th>count</th>\n",
              "      <td>294478</td>\n",
              "      <td>294478</td>\n",
              "      <td>294478</td>\n",
              "      <td>294478</td>\n",
              "      <td>294478</td>\n",
              "      <td>294478</td>\n",
              "      <td>294478</td>\n",
              "    </tr>\n",
              "    <tr>\n",
              "      <th>unique</th>\n",
              "      <td>294478</td>\n",
              "      <td>294478</td>\n",
              "      <td>2</td>\n",
              "      <td>2</td>\n",
              "      <td>1</td>\n",
              "      <td>6</td>\n",
              "      <td>2</td>\n",
              "    </tr>\n",
              "    <tr>\n",
              "      <th>top</th>\n",
              "      <td>9109b0dc-d393-497f-8d63-ba9a25dd16b4</td>\n",
              "      <td>2022-05-21 22:11:48.556739</td>\n",
              "      <td>treatment</td>\n",
              "      <td>standard</td>\n",
              "      <td>United Kingdom</td>\n",
              "      <td>26-33</td>\n",
              "      <td>registered_user</td>\n",
              "    </tr>\n",
              "    <tr>\n",
              "      <th>freq</th>\n",
              "      <td>1</td>\n",
              "      <td>1</td>\n",
              "      <td>147276</td>\n",
              "      <td>147239</td>\n",
              "      <td>294478</td>\n",
              "      <td>49270</td>\n",
              "      <td>147240</td>\n",
              "    </tr>\n",
              "  </tbody>\n",
              "</table>\n",
              "</div>"
            ],
            "text/plain": [
              "                                     user_id                   timestamp  \\\n",
              "count                                 294478                      294478   \n",
              "unique                                294478                      294478   \n",
              "top     9109b0dc-d393-497f-8d63-ba9a25dd16b4  2022-05-21 22:11:48.556739   \n",
              "freq                                       1                           1   \n",
              "\n",
              "            group  variants        location age_group        user_type  \n",
              "count      294478    294478          294478    294478           294478  \n",
              "unique          2         2               1         6                2  \n",
              "top     treatment  standard  United Kingdom     26-33  registered_user  \n",
              "freq       147276    147239          294478     49270           147240  "
            ]
          },
          "execution_count": 5,
          "metadata": {},
          "output_type": "execute_result"
        }
      ],
      "source": [
        "data.describe(include=np.object) # type: ignore"
      ]
    },
    {
      "attachments": {},
      "cell_type": "markdown",
      "metadata": {},
      "source": [
        "Необходимо посмотреть на наличие несоответствий в данных предиктов 'group' и 'variants'. По-идее, если данные заполнены правильно, то строк с данными фильтра (data['group']== 'control') & (data['variants']== 'svm_ensemble_v_1_22') и (data['group']== 'treatment') & (data['variants']== 'standard') не должно быть."
      ]
    },
    {
      "cell_type": "code",
      "execution_count": 10,
      "metadata": {},
      "outputs": [
        {
          "data": {
            "text/plain": [
              "1928"
            ]
          },
          "execution_count": 10,
          "metadata": {},
          "output_type": "execute_result"
        }
      ],
      "source": [
        "len(data[(data['group']== 'control') & (data['variants']== 'svm_ensemble_v_1_22')])"
      ]
    },
    {
      "cell_type": "code",
      "execution_count": 11,
      "metadata": {},
      "outputs": [
        {
          "data": {
            "text/plain": [
              "1965"
            ]
          },
          "execution_count": 11,
          "metadata": {},
          "output_type": "execute_result"
        }
      ],
      "source": [
        "len(data[(data['group']== 'treatment') & (data['variants']== 'standard')])"
      ]
    },
    {
      "attachments": {},
      "cell_type": "markdown",
      "metadata": {},
      "source": [
        "Есть ошибки в заполнении данных и не понятно, какое именно это должно быть сочетание group/variants, поэтому лучше избавиться от таких данных, чтобы они не искажали результаты теста. "
      ]
    },
    {
      "cell_type": "code",
      "execution_count": 26,
      "metadata": {},
      "outputs": [],
      "source": [
        "data.drop(data[(data['group']== 'control') & (data['variants']== 'svm_ensemble_v_1_22')].index, inplace=True)\n",
        "data.drop(data[(data['group']== 'treatment') & (data['variants']== 'standard')].index,inplace=True)"
      ]
    },
    {
      "cell_type": "code",
      "execution_count": 28,
      "metadata": {
        "id": "4MeB69W5IrP4"
      },
      "outputs": [],
      "source": [
        "# Для удобства переименуем группы А - с вариантом сервиса standard и В - с вариантом сервиса  svm_ensemble_v_1_22\n",
        "data['variants'] = np.where(data['variants']== 'standard', 'A','B')"
      ]
    },
    {
      "cell_type": "code",
      "execution_count": 48,
      "metadata": {
        "colab": {
          "base_uri": "https://localhost:8080/"
        },
        "id": "pd95WYnptU-Y",
        "outputId": "bd7d2352-43ef-48d1-9f04-eb220c1f4be0"
      },
      "outputs": [
        {
          "data": {
            "text/html": [
              "<div>\n",
              "<style scoped>\n",
              "    .dataframe tbody tr th:only-of-type {\n",
              "        vertical-align: middle;\n",
              "    }\n",
              "\n",
              "    .dataframe tbody tr th {\n",
              "        vertical-align: top;\n",
              "    }\n",
              "\n",
              "    .dataframe thead th {\n",
              "        text-align: right;\n",
              "    }\n",
              "</style>\n",
              "<table border=\"1\" class=\"dataframe\">\n",
              "  <thead>\n",
              "    <tr style=\"text-align: right;\">\n",
              "      <th></th>\n",
              "      <th>sum</th>\n",
              "      <th>mean</th>\n",
              "      <th>count</th>\n",
              "    </tr>\n",
              "    <tr>\n",
              "      <th>variants</th>\n",
              "      <th></th>\n",
              "      <th></th>\n",
              "      <th></th>\n",
              "    </tr>\n",
              "  </thead>\n",
              "  <tbody>\n",
              "    <tr>\n",
              "      <th>A</th>\n",
              "      <td>17489</td>\n",
              "      <td>0.120386</td>\n",
              "      <td>145274</td>\n",
              "    </tr>\n",
              "    <tr>\n",
              "      <th>B</th>\n",
              "      <td>17264</td>\n",
              "      <td>0.118807</td>\n",
              "      <td>145311</td>\n",
              "    </tr>\n",
              "  </tbody>\n",
              "</table>\n",
              "</div>"
            ],
            "text/plain": [
              "            sum      mean   count\n",
              "variants                         \n",
              "A         17489  0.120386  145274\n",
              "B         17264  0.118807  145311"
            ]
          },
          "execution_count": 48,
          "metadata": {},
          "output_type": "execute_result"
        }
      ],
      "source": [
        "summary = data.groupby('variants').converted.agg(['sum','mean','count'])\n",
        "summary"
      ]
    },
    {
      "cell_type": "code",
      "execution_count": 33,
      "metadata": {
        "colab": {
          "base_uri": "https://localhost:8080/"
        },
        "id": "GO597z2btZb_",
        "outputId": "477d04af-8a31-4445-b7c5-7080ab0aae1e"
      },
      "outputs": [
        {
          "data": {
            "text/plain": [
              "-1.286522957287438"
            ]
          },
          "execution_count": 33,
          "metadata": {},
          "output_type": "execute_result"
        }
      ],
      "source": [
        "(summary['sum'][1]-summary['sum'][0])/summary['sum'][0]*100"
      ]
    },
    {
      "cell_type": "code",
      "execution_count": 35,
      "metadata": {
        "colab": {
          "base_uri": "https://localhost:8080/",
          "height": 143
        },
        "id": "hE3kWc1aMDHn",
        "outputId": "07a69f99-3e33-4474-cc74-757ad39c0bd5"
      },
      "outputs": [
        {
          "data": {
            "text/plain": [
              "0.025469113537178022"
            ]
          },
          "execution_count": 35,
          "metadata": {},
          "output_type": "execute_result"
        }
      ],
      "source": [
        "(summary['count'][1]-summary['count'][0])/summary['count'][0]*100"
      ]
    },
    {
      "attachments": {},
      "cell_type": "markdown",
      "metadata": {
        "id": "Ag13hGC2iiPq"
      },
      "source": [
        "**Вывод:**\n",
        "В эксперименте изначально участвовало 294478 наблюдений с уникальными user-id\n",
        "\n",
        "Были найдены ошибки в заполнении данных столбцов group/variants, избавились от таких данных, чтобы они не искажали результаты теста. \n",
        "Осталось 290585 наблюдений.\n",
        "\n",
        "145274 пользователей распределенны в группу А и 145311 в группу В.\n",
        "\n",
        "Относительное количество тестируемых в группе В немного выше чем в группе А на 0,025%\n",
        "\n",
        "Относительное количество конверсий (бронирований) в группе А немного выше чем в группе В на 1,29%\n",
        "\n",
        "Среднее значение конверсии для группы А равно 0,120\n",
        "\n",
        "Среднее значение конверсии для группы В равно 0,119\n",
        "\n",
        "Проверим, являются ли различия в показателе конверсии (\"converted\") группы А и группы В статистически значимыми.\n",
        "Сформулируем наши гипотезы."
      ]
    },
    {
      "attachments": {},
      "cell_type": "markdown",
      "metadata": {
        "collapsed": false,
        "id": "IVs4Lyt2otcN"
      },
      "source": [
        "**H0 (Null hypothesis)** : Нет статистически значимой разницы в признаке (\"converted\") в 2-х распределениях\n",
        "\n",
        "**H1 (Alternative hypothesis)**:  Существует статистически значимая разница в признаке (\"converted\") в 2-х распределениях\n",
        "\n",
        "Так как признак у нас бинарный, то мы будем использовать метрику пропорций. Наилучший метод чтобы проверить статистическую значимость изменения для пропорций это метод Хи‑Квадрат. \n",
        "\n",
        "Мы посчитаем эту метрику вручную, используя формулу нахождения z-значения, а затем проверим наши расчеты с помощью встроенных методов\n",
        "sm.stats.proportions_ztest и chi2_contingency, которые должны выдать аналогичный результат, если мы все посчитали правильно."
      ]
    },
    {
      "cell_type": "code",
      "execution_count": 49,
      "metadata": {
        "colab": {
          "base_uri": "https://localhost:8080/"
        },
        "id": "OXW4a8KOa_sP",
        "outputId": "d9955dda-8d2b-4cb2-afd8-aede0d4cb06d"
      },
      "outputs": [
        {
          "name": "stdout",
          "output_type": "stream",
          "text": [
            "z-значение равно: 1.312,p_value равно: 0.1897\n"
          ]
        }
      ],
      "source": [
        "n1=summary.loc['A', 'count'] #Число успехов выборка А\n",
        "s1=summary.loc['A', 'sum']  #Число испытаний выборка А\n",
        "n2=summary.loc['B', 'count'] #Число успехов выборка В\n",
        "s2=summary.loc['B', 'sum']#Число испытаний выборка В\n",
        "\n",
        "p1= s1 / n1 # type: ignore\n",
        "p2= s2 / n2 # type: ignore\n",
        "p= (s1+s2) / (n1+n2) # type: ignore\n",
        "z = (p2-p1) / ((p*(1-p)*((1/n1)+(1/n2)))**0.5) # type: ignore\n",
        "p_value = norm.cdf(z)\n",
        "print(f'z-значение равно: {round(abs(z),3)},p_value равно: {round(p_value * 2,4)}') # type: ignore"
      ]
    },
    {
      "cell_type": "code",
      "execution_count": 50,
      "metadata": {
        "colab": {
          "base_uri": "https://localhost:8080/"
        },
        "id": "jjYso6UYj2Dn",
        "outputId": "45d94519-5d0f-4790-fe7e-d8f470258ff4"
      },
      "outputs": [
        {
          "name": "stdout",
          "output_type": "stream",
          "text": [
            "z-значение равно: 1.312,p_value равно: 0.1897\n"
          ]
        }
      ],
      "source": [
        "z1, p_value1 = sm.stats.proportions_ztest([s1,s2],[n1,n2])\n",
        "print(f'z-значение равно: {round(z1,3)},p_value равно: {round(p_value1,4)}') # type: ignore"
      ]
    },
    {
      "cell_type": "code",
      "execution_count": 51,
      "metadata": {
        "colab": {
          "base_uri": "https://localhost:8080/"
        },
        "id": "DH42R89nnkVs",
        "outputId": "75787b36-dc16-4d27-92ad-0a06e055be93"
      },
      "outputs": [
        {
          "name": "stdout",
          "output_type": "stream",
          "text": [
            "z-значение равно: 1.312,p_value равно: 0.1897\n"
          ]
        }
      ],
      "source": [
        "arr = np.array([[s2,n2-s2],[s1, n1-s1]]) # type: ignore\n",
        "chi2,p_value3,_,_ = chi2_contingency(arr, correction=False)\n",
        "print(f'z-значение равно: {round(chi2**0.5,3)},p_value равно: {round(p_value3,4)}')"
      ]
    },
    {
      "attachments": {},
      "cell_type": "markdown",
      "metadata": {},
      "source": [
        "#### **Вывод:**\n",
        "\n",
        "- p_value больше 0.05. Таким образом статистический анализ признака converted показал, что статистически значимые результаты отсутствуют в двух вариантах теста и нулевую гипотезу по данному признаку отклонить нельзя."
      ]
    },
    {
      "attachments": {},
      "cell_type": "markdown",
      "metadata": {
        "id": "tQ8PHHrXqXsL"
      },
      "source": [
        "# **Проведем тест для зарегистрированных пользователей `user_type` = 'registered_user'**"
      ]
    },
    {
      "cell_type": "code",
      "execution_count": 60,
      "metadata": {
        "id": "5wfNSpVDphmc"
      },
      "outputs": [],
      "source": [
        "# Сформируем подвыборку, соответствующую условию 'registered_user'\n",
        "df_reg_user = data[(data['user_type']== 'registered_user')]"
      ]
    },
    {
      "cell_type": "code",
      "execution_count": 72,
      "metadata": {
        "colab": {
          "base_uri": "https://localhost:8080/",
          "height": 143
        },
        "id": "694eifDWp-VU",
        "outputId": "5044aee3-b071-4152-841d-8af2aa810aa1"
      },
      "outputs": [
        {
          "data": {
            "text/html": [
              "<div>\n",
              "<style scoped>\n",
              "    .dataframe tbody tr th:only-of-type {\n",
              "        vertical-align: middle;\n",
              "    }\n",
              "\n",
              "    .dataframe tbody tr th {\n",
              "        vertical-align: top;\n",
              "    }\n",
              "\n",
              "    .dataframe thead th {\n",
              "        text-align: right;\n",
              "    }\n",
              "</style>\n",
              "<table border=\"1\" class=\"dataframe\">\n",
              "  <thead>\n",
              "    <tr style=\"text-align: right;\">\n",
              "      <th></th>\n",
              "      <th>sum</th>\n",
              "      <th>count</th>\n",
              "    </tr>\n",
              "    <tr>\n",
              "      <th>variants</th>\n",
              "      <th></th>\n",
              "      <th></th>\n",
              "    </tr>\n",
              "  </thead>\n",
              "  <tbody>\n",
              "    <tr>\n",
              "      <th>A</th>\n",
              "      <td>8689</td>\n",
              "      <td>72483</td>\n",
              "    </tr>\n",
              "    <tr>\n",
              "      <th>B</th>\n",
              "      <td>8760</td>\n",
              "      <td>72829</td>\n",
              "    </tr>\n",
              "  </tbody>\n",
              "</table>\n",
              "</div>"
            ],
            "text/plain": [
              "           sum  count\n",
              "variants             \n",
              "A         8689  72483\n",
              "B         8760  72829"
            ]
          },
          "execution_count": 72,
          "metadata": {},
          "output_type": "execute_result"
        }
      ],
      "source": [
        "summary = df_reg_user.groupby('variants').converted.agg(['sum','count'])\n",
        "summary"
      ]
    },
    {
      "attachments": {},
      "cell_type": "markdown",
      "metadata": {
        "collapsed": false,
        "id": "bZCPpjHAqKp-"
      },
      "source": [
        "**H0 (Null hypothesis)** : Нет статистически значимой разницы в признаке (\"converted\") в 2-х распределениях среди зарегистрированных пользователей\n",
        "\n",
        "**H1 (Alternative hypothesis)**:  Существует статистически значимая разница в признаке (\"converted\") в 2-х распределениях среди зарегистрированных пользователей"
      ]
    },
    {
      "cell_type": "code",
      "execution_count": 76,
      "metadata": {
        "colab": {
          "base_uri": "https://localhost:8080/"
        },
        "id": "AeR2zmGdqKp_",
        "outputId": "42d4f20e-c4f1-4184-f897-7b64d597d142"
      },
      "outputs": [
        {
          "name": "stdout",
          "output_type": "stream",
          "text": [
            "z-значение равно: 0.238,p_value равно: 0.8121\n"
          ]
        }
      ],
      "source": [
        "n1=summary.loc['A', 'count'] #Число успехов выборка А\n",
        "s1=summary.loc['A', 'sum']  #Число испытаний выборка А\n",
        "n2=summary.loc['B', 'count'] #Число успехов выборка В\n",
        "s2=summary.loc['B', 'sum']#Число испытаний выборка В\n",
        "z1, p_value1 = sm.stats.proportions_ztest([s2,s1],[n2,n1])\n",
        "print(f'z-значение равно: {round(z1,3)},p_value равно: {round(p_value1,4)}') # type: ignore"
      ]
    },
    {
      "cell_type": "code",
      "execution_count": 77,
      "metadata": {
        "colab": {
          "base_uri": "https://localhost:8080/"
        },
        "id": "CAsSkHfbqKqB",
        "outputId": "b7ca298a-f352-4464-fbcf-135b3f64445a"
      },
      "outputs": [
        {
          "name": "stdout",
          "output_type": "stream",
          "text": [
            "z-значение равно: 0.238,p_value равно: 0.8121\n"
          ]
        }
      ],
      "source": [
        "arr = np.array([[s2,n2-s2],[s1, n1-s1]]) # type: ignore\n",
        "chi2,p_value3,_,_ = chi2_contingency(arr, correction=False)\n",
        "print(f'z-значение равно: {round(chi2**0.5,3)},p_value равно: {round(p_value3,4)}')"
      ]
    },
    {
      "attachments": {},
      "cell_type": "markdown",
      "metadata": {},
      "source": [
        "#### **Вывод:**\n",
        "\n",
        "- p_value больше 0.05. Таким образом статистический анализ признака converted среди групп зарегистрированных пользователей показал, что статистически значимые результаты отсутствуют в двух вариантах теста и нулевую гипотезу по данному признаку отклонить нельзя."
      ]
    },
    {
      "attachments": {},
      "cell_type": "markdown",
      "metadata": {
        "id": "dp78ZUMyqgHD"
      },
      "source": [
        "# **Проведем тест для новых пользователей (new_user**"
      ]
    },
    {
      "cell_type": "code",
      "execution_count": 67,
      "metadata": {
        "id": "NK6BQ9Pgqm9_"
      },
      "outputs": [],
      "source": [
        "df_new_user = data[(data['user_type']== 'new_user')]"
      ]
    },
    {
      "cell_type": "code",
      "execution_count": 78,
      "metadata": {
        "colab": {
          "base_uri": "https://localhost:8080/",
          "height": 143
        },
        "id": "l4desGcVqm-A",
        "outputId": "40e93fda-0a4e-4e9b-dda4-ce60c1242807"
      },
      "outputs": [
        {
          "data": {
            "text/html": [
              "<div>\n",
              "<style scoped>\n",
              "    .dataframe tbody tr th:only-of-type {\n",
              "        vertical-align: middle;\n",
              "    }\n",
              "\n",
              "    .dataframe tbody tr th {\n",
              "        vertical-align: top;\n",
              "    }\n",
              "\n",
              "    .dataframe thead th {\n",
              "        text-align: right;\n",
              "    }\n",
              "</style>\n",
              "<table border=\"1\" class=\"dataframe\">\n",
              "  <thead>\n",
              "    <tr style=\"text-align: right;\">\n",
              "      <th></th>\n",
              "      <th>sum</th>\n",
              "      <th>count</th>\n",
              "    </tr>\n",
              "    <tr>\n",
              "      <th>variants</th>\n",
              "      <th></th>\n",
              "      <th></th>\n",
              "    </tr>\n",
              "  </thead>\n",
              "  <tbody>\n",
              "    <tr>\n",
              "      <th>A</th>\n",
              "      <td>8800</td>\n",
              "      <td>72791</td>\n",
              "    </tr>\n",
              "    <tr>\n",
              "      <th>B</th>\n",
              "      <td>8504</td>\n",
              "      <td>72482</td>\n",
              "    </tr>\n",
              "  </tbody>\n",
              "</table>\n",
              "</div>"
            ],
            "text/plain": [
              "           sum  count\n",
              "variants             \n",
              "A         8800  72791\n",
              "B         8504  72482"
            ]
          },
          "execution_count": 78,
          "metadata": {},
          "output_type": "execute_result"
        }
      ],
      "source": [
        "summary = df_new_user.groupby('variants').converted.agg(['sum','count'])\n",
        "summary"
      ]
    },
    {
      "attachments": {},
      "cell_type": "markdown",
      "metadata": {
        "collapsed": false,
        "id": "k23zDS75qm-A"
      },
      "source": [
        "**H0 (Null hypothesis)** : Нет статистически значимой разницы в признаке (\"converted\") в 2-х распределениях среди новых пользователей\n",
        "\n",
        "**H1 (Alternative hypothesis)**:  Существует статистически значимая разница в признаке (\"converted\") в 2-х распределениях среди новых пользователей"
      ]
    },
    {
      "cell_type": "code",
      "execution_count": 83,
      "metadata": {
        "colab": {
          "base_uri": "https://localhost:8080/"
        },
        "id": "297uK5fDqm-A",
        "outputId": "c3d10685-c748-44a7-a607-898702da2b73"
      },
      "outputs": [
        {
          "name": "stdout",
          "output_type": "stream",
          "text": [
            "z-значение равно: 2.099,p_value равно: 0.0358\n"
          ]
        }
      ],
      "source": [
        "n1=summary.loc['A', 'count'] #Число успехов выборка А\n",
        "s1=summary.loc['A', 'sum']  #Число испытаний выборка А\n",
        "n2=summary.loc['B', 'count'] #Число успехов выборка В\n",
        "s2=summary.loc['B', 'sum']#Число испытаний выборка В\n",
        "z1, p_value1 = sm.stats.proportions_ztest([s1,s2],[n1,n2])\n",
        "print(f'z-значение равно: {round(z1,3)},p_value равно: {round(p_value1,4)}')"
      ]
    },
    {
      "cell_type": "code",
      "execution_count": 82,
      "metadata": {
        "colab": {
          "base_uri": "https://localhost:8080/"
        },
        "id": "A3_aOY-8qm-B",
        "outputId": "fff6f549-53d2-4745-a91a-3de60711dc83"
      },
      "outputs": [
        {
          "name": "stdout",
          "output_type": "stream",
          "text": [
            "z-значение равно: 2.099,p_value равно: 0.0358\n"
          ]
        }
      ],
      "source": [
        "arr = np.array([[s1, n1-s1], [s2,n2-s2]]) # type: ignore\n",
        "chi2,p_value3,_,_ = chi2_contingency(arr, correction=False)\n",
        "print(f'z-значение равно: {round(chi2**0.5,3)},p_value равно: {round(p_value3,4)}')"
      ]
    },
    {
      "cell_type": "code",
      "execution_count": 85,
      "metadata": {},
      "outputs": [
        {
          "name": "stdout",
          "output_type": "stream",
          "text": [
            "Коэф-т converted для А равен: 0.121\n",
            "Коэф-т converted для B равен: 0.117\n"
          ]
        }
      ],
      "source": [
        "print(f'Коэф-т converted для А равен: {round(s1/n1,3)}')\n",
        "print(f'Коэф-т converted для B равен: {round(s2/n2,3)}')"
      ]
    },
    {
      "attachments": {},
      "cell_type": "markdown",
      "metadata": {},
      "source": [
        "Существует статистически значимая разница в признаке (\"converted\") в 2-х распределениях среди новых пользователей. В варианте В данный показатель ухудшился и оказываемые изменения для работы сервиса оказывают негативный эффект для новых пользователей. Необходимо избавиться от изменений и вернуться к прежней версии работы сервиса."
      ]
    }
  ],
  "metadata": {
    "colab": {
      "provenance": []
    },
    "kernelspec": {
      "display_name": "Python 3",
      "language": "python",
      "name": "python3"
    },
    "language_info": {
      "codemirror_mode": {
        "name": "ipython",
        "version": 3
      },
      "file_extension": ".py",
      "mimetype": "text/x-python",
      "name": "python",
      "nbconvert_exporter": "python",
      "pygments_lexer": "ipython3",
      "version": "3.9.13"
    }
  },
  "nbformat": 4,
  "nbformat_minor": 0
}
